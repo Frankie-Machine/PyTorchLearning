{
  "nbformat": 4,
  "nbformat_minor": 0,
  "metadata": {
    "colab": {
      "provenance": []
    },
    "kernelspec": {
      "name": "python3",
      "display_name": "Python 3"
    },
    "language_info": {
      "name": "python"
    }
  },
  "cells": [
    {
      "cell_type": "code",
      "execution_count": 38,
      "metadata": {
        "id": "_1_jcLDjNdAh"
      },
      "outputs": [],
      "source": [
        "import pandas as pd\n",
        "import numpy as np\n",
        "import torch\n",
        "import torch.nn\n",
        "import matplotlib.pyplot as plt\n",
        "import seaborn as sns\n",
        "import scipy as sp\n",
        "import os\n",
        "import math\n",
        "import warnings\n",
        "warnings.filterwarnings('ignore')\n",
        "from torch import nn"
      ]
    },
    {
      "cell_type": "code",
      "source": [
        "import pickle"
      ],
      "metadata": {
        "id": "K0sXvOFKOywY"
      },
      "execution_count": 39,
      "outputs": []
    },
    {
      "cell_type": "code",
      "source": [],
      "metadata": {
        "id": "DYawWoJAQbC5"
      },
      "execution_count": 39,
      "outputs": []
    },
    {
      "cell_type": "code",
      "source": [],
      "metadata": {
        "id": "2EToKfqOQWTu"
      },
      "execution_count": 39,
      "outputs": []
    },
    {
      "cell_type": "code",
      "source": [
        "weight = 0.7\n",
        "bias = 0.3\n",
        "\n",
        "start = 0\n",
        "\n",
        "end = 1\n",
        "\n",
        "step = 0.02\n",
        "X = torch.arange(start ,end , step).unsqueeze(dim=1)\n",
        "y = weight * X + bias\n",
        "\n",
        "X[:10] , y[:10]"
      ],
      "metadata": {
        "colab": {
          "base_uri": "https://localhost:8080/"
        },
        "id": "9-cb0J78N5OK",
        "outputId": "515ec157-723b-46df-8d9d-1e06b089de04"
      },
      "execution_count": 40,
      "outputs": [
        {
          "output_type": "execute_result",
          "data": {
            "text/plain": [
              "(tensor([[0.0000],\n",
              "         [0.0200],\n",
              "         [0.0400],\n",
              "         [0.0600],\n",
              "         [0.0800],\n",
              "         [0.1000],\n",
              "         [0.1200],\n",
              "         [0.1400],\n",
              "         [0.1600],\n",
              "         [0.1800]]),\n",
              " tensor([[0.3000],\n",
              "         [0.3140],\n",
              "         [0.3280],\n",
              "         [0.3420],\n",
              "         [0.3560],\n",
              "         [0.3700],\n",
              "         [0.3840],\n",
              "         [0.3980],\n",
              "         [0.4120],\n",
              "         [0.4260]]))"
            ]
          },
          "metadata": {},
          "execution_count": 40
        }
      ]
    },
    {
      "cell_type": "code",
      "source": [
        "#Spiliting Data into Training and Testing Data (Very important concept in ML in General)\n",
        "\n",
        "#Lets create Training and Testing set\n",
        "\n",
        "train_split = int(0.8 * len(X))\n",
        "train_split\n",
        "\n"
      ],
      "metadata": {
        "colab": {
          "base_uri": "https://localhost:8080/"
        },
        "id": "a_wqj6tyOLBK",
        "outputId": "26a91a02-a959-454e-8a74-f9e3e6a2d7e8"
      },
      "execution_count": 41,
      "outputs": [
        {
          "output_type": "execute_result",
          "data": {
            "text/plain": [
              "40"
            ]
          },
          "metadata": {},
          "execution_count": 41
        }
      ]
    },
    {
      "cell_type": "code",
      "source": [
        "X_train , y_train = X[:train_split] , y[:train_split] #: before means up until that point and ':' after means samples take from that point onwards\n",
        "X_test, y_test = X[train_split:], y[train_split:]\n",
        "\n",
        "len(X_train) , len(y_train) , len(X_test) , len(y_test)"
      ],
      "metadata": {
        "colab": {
          "base_uri": "https://localhost:8080/"
        },
        "id": "_yU7wvDGOUT_",
        "outputId": "c3bf1e9e-15de-419c-851a-8e053a2c78e5"
      },
      "execution_count": 42,
      "outputs": [
        {
          "output_type": "execute_result",
          "data": {
            "text/plain": [
              "(40, 40, 10, 10)"
            ]
          },
          "metadata": {},
          "execution_count": 42
        }
      ]
    },
    {
      "cell_type": "code",
      "source": [],
      "metadata": {
        "id": "flw2mI-9PIdr"
      },
      "execution_count": 42,
      "outputs": []
    },
    {
      "cell_type": "code",
      "source": [],
      "metadata": {
        "id": "v_LO8sn0O96g"
      },
      "execution_count": 42,
      "outputs": []
    },
    {
      "cell_type": "code",
      "source": [],
      "metadata": {
        "id": "3mrbaoTKO93-"
      },
      "execution_count": 42,
      "outputs": []
    },
    {
      "cell_type": "code",
      "source": [
        "def plot_predictions(train_data = X_train,\n",
        "                    train_label = y_train,\n",
        "                    test_data = X_test,\n",
        "                    test_label = y_test,\n",
        "                    predictions = None):\n",
        "    plt.figure(figsize=(10,7))\n",
        "    #Plotting the training Data\n",
        "    plt.scatter(train_data, train_label, c=\"b\", s=4, label=\"Training Data\")\n",
        "    #Plotting the Test Data in Green\n",
        "    plt.scatter(test_data, test_label, c=\"g\", s=4, label=\"Testing Data\")\n",
        "    #Are there any predictions?\n",
        "    if predictions is not None:\n",
        "        plt.scatter(test_data, predictions, c=\"r\", s=4 , label=\"Predictions\")\n",
        "\n",
        "    plt.legend(prop={\"size\": 14});"
      ],
      "metadata": {
        "id": "jfzCtJvrOjJR"
      },
      "execution_count": 43,
      "outputs": []
    },
    {
      "cell_type": "code",
      "source": [
        "# Create a Linear Regression model class\n",
        "class LinearRegressionModel(nn.Module): # <- almost everything in PyTorch is a nn.Module (think of this as neural network lego blocks)\n",
        "    def __init__(self):\n",
        "        super().__init__()\n",
        "        self.weights = nn.Parameter(torch.randn(1, # <- start with random weights (this will get adjusted as the model learns)\n",
        "                                                dtype=torch.float), # <- PyTorch loves float32 by default\n",
        "                                   requires_grad=True) # <- can we update this value with gradient descent?)\n",
        "\n",
        "        self.bias = nn.Parameter(torch.randn(1, # <- start with random bias (this will get adjusted as the model learns)\n",
        "                                            dtype=torch.float), # <- PyTorch loves float32 by default\n",
        "                                requires_grad=True) # <- can we update this value with gradient descent?))\n",
        "\n",
        "    # Forward defines the computation in the model\n",
        "    def forward(self, x: torch.Tensor) -> torch.Tensor: # <- \"x\" is the input data (e.g. training/testing features)\n",
        "        return self.weights * x + self.bias # <- this is the linear regression formula (y = m*x + b)\n"
      ],
      "metadata": {
        "id": "GfB-o4mNOmUP"
      },
      "execution_count": 44,
      "outputs": []
    },
    {
      "cell_type": "code",
      "source": [
        "model_0 = LinearRegressionModel()"
      ],
      "metadata": {
        "id": "fRBDuBEkPDtu"
      },
      "execution_count": 45,
      "outputs": []
    },
    {
      "cell_type": "code",
      "source": [
        "torch.manual_seed(42)"
      ],
      "metadata": {
        "colab": {
          "base_uri": "https://localhost:8080/"
        },
        "id": "IMrY7tVCO991",
        "outputId": "f14357d9-7bf2-4a2b-b482-d3e30d511967"
      },
      "execution_count": 46,
      "outputs": [
        {
          "output_type": "execute_result",
          "data": {
            "text/plain": [
              "<torch._C.Generator at 0x7c0c3a17cf70>"
            ]
          },
          "metadata": {},
          "execution_count": 46
        }
      ]
    },
    {
      "cell_type": "code",
      "source": [
        "# Create a Linear Regression model class\n",
        "class LinearRegressionModel(nn.Module): # <- almost everything in PyTorch is a nn.Module (think of this as neural network lego blocks)\n",
        "    def __init__(self):\n",
        "        super().__init__()\n",
        "        self.weights = nn.Parameter(torch.randn(1, # <- start with random weights (this will get adjusted as the model learns)\n",
        "                                                dtype=torch.float), # <- PyTorch loves float32 by default\n",
        "                                   requires_grad=True) # <- can we update this value with gradient descent?)\n",
        "\n",
        "        self.bias = nn.Parameter(torch.randn(1, # <- start with random bias (this will get adjusted as the model learns)\n",
        "                                            dtype=torch.float), # <- PyTorch loves float32 by default\n",
        "                                requires_grad=True) # <- can we update this value with gradient descent?))\n",
        "\n",
        "    # Forward defines the computation in the model\n",
        "    def forward(self, x: torch.Tensor) -> torch.Tensor: # <- \"x\" is the input data (e.g. training/testing features)\n",
        "        return self.weights * x + self.bias # <- this is the linear regression formula (y = m*x + b)\n"
      ],
      "metadata": {
        "id": "cxIzB3TONvdD"
      },
      "execution_count": 47,
      "outputs": []
    },
    {
      "cell_type": "code",
      "source": [
        "model_0"
      ],
      "metadata": {
        "colab": {
          "base_uri": "https://localhost:8080/"
        },
        "id": "NdOmwxTFNeLY",
        "outputId": "86f760a1-9ee5-4af9-e7fe-c3597374be1c"
      },
      "execution_count": 48,
      "outputs": [
        {
          "output_type": "execute_result",
          "data": {
            "text/plain": [
              "LinearRegressionModel()"
            ]
          },
          "metadata": {},
          "execution_count": 48
        }
      ]
    },
    {
      "cell_type": "code",
      "source": [
        "#L1 Loss in PyTorch is also known as Mean Absolute Error(MAE)\n",
        "\n",
        "#Setting up a Loss Function\n",
        "\n",
        "loss_fn = nn.L1Loss()\n",
        "\n",
        "#Setting up an Optimizer (Stochastic Gradient Descent)\n",
        "\n",
        "#Smaller the learning rate, smaller the change in the parameter; Larger the learning rate, larger the change in the parameter.\n",
        "\n",
        "optimizer = torch.optim.SGD(params = model_0.parameters(), lr=0.01 )\n",
        "\n",
        "\n",
        "\n",
        "\n",
        "\n",
        "\n",
        "\n"
      ],
      "metadata": {
        "id": "Ut-uoKIoO75J"
      },
      "execution_count": 49,
      "outputs": []
    },
    {
      "cell_type": "code",
      "source": [
        "#Training Loop\n",
        "\n",
        "epochs = 1\n",
        "\n",
        "for epoch in range(epochs):\n",
        "  model_0.train()\n",
        "  #1 Step Forward Pass\n",
        "  y_pred = model_0(X_train)\n",
        "  #2 Step Calculate the Loss\n",
        "  loss = loss_fn(y_pred, y_train)\n",
        "  print(f\"Loss: {loss}\")\n",
        "  #3 Optimizer Grad\n",
        "  optimizer.zero_grad()\n",
        "  #4 Perform Backpropagation\n",
        "  loss.backward()\n",
        "  #5. Gradient Descent\n",
        "  optimizer.step()\n",
        "  #Model Evaluation\n",
        "  model_0.eval()\n",
        "  #Print out the Model\n",
        "  print(model_0.state_dict())\n"
      ],
      "metadata": {
        "colab": {
          "base_uri": "https://localhost:8080/"
        },
        "id": "KyN_ziXNNeIB",
        "outputId": "e24b760f-5d21-44dd-964a-3c0fee67aea7"
      },
      "execution_count": 50,
      "outputs": [
        {
          "output_type": "stream",
          "name": "stdout",
          "text": [
            "Loss: 0.31288138031959534\n",
            "OrderedDict([('weights', tensor([0.3406])), ('bias', tensor([0.1388]))])\n"
          ]
        }
      ]
    },
    {
      "cell_type": "code",
      "source": [
        "epochs = 300\n",
        "#Track different Values\n",
        "epoch_count = []\n",
        "loss_values = []\n",
        "test_loss_values = []\n",
        "\n",
        "for epoch in range(epochs):\n",
        "  #Train Model\n",
        "  model_0.train()\n",
        "  #1 Step Forward Pass\n",
        "  y_pred = model_0(X_train)\n",
        "  #2 Step up a Loss Function\n",
        "  loss = loss_fn(y_pred, y_train)\n",
        "  #3 Step up Optimizer Grad\n",
        "  optimizer.zero_grad()\n",
        "  #4 Peform Backpropagation\n",
        "  loss.backward()\n",
        "  #5 Perform Gradient Descent\n",
        "  optimizer.step()\n",
        "  #Model Evaluation\n",
        "  #Testing Part\n",
        "  model_0.eval()\n",
        "  with torch.inference_mode():\n",
        "    #1 Do forward pass\n",
        "    test_pred  = model_0(X_test)\n",
        "    #2 Calculate the test Loss\n",
        "    test_loss = loss_fn(test_pred, y_test)\n",
        "    #What is Happening?\n",
        "    if epoch % 10 == 0:\n",
        "      epoch_count.append(epoch)\n",
        "      loss_values.append(loss)\n",
        "      test_loss_values.append(test_loss)\n",
        "      print(f\"Epoch: {epoch}| Loss: {loss}| Test Loss: {test_loss}\")\n",
        "       #print out the model\n",
        "      print(model_0.state_dict())\n",
        "\n"
      ],
      "metadata": {
        "colab": {
          "base_uri": "https://localhost:8080/"
        },
        "id": "AbbrCBtFUglg",
        "outputId": "9a217510-2745-4519-88f1-08fa816171f0"
      },
      "execution_count": 51,
      "outputs": [
        {
          "output_type": "stream",
          "name": "stdout",
          "text": [
            "Epoch: 0| Loss: 0.3013603389263153| Test Loss: 0.4675942063331604\n",
            "OrderedDict([('weights', tensor([0.3445])), ('bias', tensor([0.1488]))])\n",
            "Epoch: 10| Loss: 0.18615034222602844| Test Loss: 0.3328842222690582\n",
            "OrderedDict([('weights', tensor([0.3835])), ('bias', tensor([0.2488]))])\n",
            "Epoch: 20| Loss: 0.08227583020925522| Test Loss: 0.2069590985774994\n",
            "OrderedDict([('weights', tensor([0.4222])), ('bias', tensor([0.3403]))])\n",
            "Epoch: 30| Loss: 0.05181945487856865| Test Loss: 0.14023718237876892\n",
            "OrderedDict([('weights', tensor([0.4539])), ('bias', tensor([0.3788]))])\n",
            "Epoch: 40| Loss: 0.04503796249628067| Test Loss: 0.11182951927185059\n",
            "OrderedDict([('weights', tensor([0.4768])), ('bias', tensor([0.3868]))])\n",
            "Epoch: 50| Loss: 0.04132963344454765| Test Loss: 0.09809747338294983\n",
            "OrderedDict([('weights', tensor([0.4956])), ('bias', tensor([0.3838]))])\n",
            "Epoch: 60| Loss: 0.03785243630409241| Test Loss: 0.08776430785655975\n",
            "OrderedDict([('weights', tensor([0.5134])), ('bias', tensor([0.3783]))])\n",
            "Epoch: 70| Loss: 0.03441363573074341| Test Loss: 0.0794917643070221\n",
            "OrderedDict([('weights', tensor([0.5306])), ('bias', tensor([0.3713]))])\n",
            "Epoch: 80| Loss: 0.030979642644524574| Test Loss: 0.07190609723329544\n",
            "OrderedDict([('weights', tensor([0.5475])), ('bias', tensor([0.3638]))])\n",
            "Epoch: 90| Loss: 0.02754882536828518| Test Loss: 0.06363357603549957\n",
            "OrderedDict([('weights', tensor([0.5647])), ('bias', tensor([0.3568]))])\n",
            "Epoch: 100| Loss: 0.024110013619065285| Test Loss: 0.05536102131009102\n",
            "OrderedDict([('weights', tensor([0.5818])), ('bias', tensor([0.3498]))])\n",
            "Epoch: 110| Loss: 0.020677709951996803| Test Loss: 0.04777535796165466\n",
            "OrderedDict([('weights', tensor([0.5988])), ('bias', tensor([0.3423]))])\n",
            "Epoch: 120| Loss: 0.017245199531316757| Test Loss: 0.0395028181374073\n",
            "OrderedDict([('weights', tensor([0.6159])), ('bias', tensor([0.3353]))])\n",
            "Epoch: 130| Loss: 0.013806397095322609| Test Loss: 0.031230276450514793\n",
            "OrderedDict([('weights', tensor([0.6331])), ('bias', tensor([0.3283]))])\n",
            "Epoch: 140| Loss: 0.010375778190791607| Test Loss: 0.023644620552659035\n",
            "OrderedDict([('weights', tensor([0.6501])), ('bias', tensor([0.3208]))])\n",
            "Epoch: 150| Loss: 0.006941580679267645| Test Loss: 0.0153720797970891\n",
            "OrderedDict([('weights', tensor([0.6672])), ('bias', tensor([0.3138]))])\n",
            "Epoch: 160| Loss: 0.0035027749836444855| Test Loss: 0.007099539041519165\n",
            "OrderedDict([('weights', tensor([0.6844])), ('bias', tensor([0.3068]))])\n",
            "Epoch: 170| Loss: 0.0025885067880153656| Test Loss: 0.008447891101241112\n",
            "OrderedDict([('weights', tensor([0.6990])), ('bias', tensor([0.3093]))])\n",
            "Epoch: 180| Loss: 0.0025885067880153656| Test Loss: 0.008447891101241112\n",
            "OrderedDict([('weights', tensor([0.6990])), ('bias', tensor([0.3093]))])\n",
            "Epoch: 190| Loss: 0.0025885067880153656| Test Loss: 0.008447891101241112\n",
            "OrderedDict([('weights', tensor([0.6990])), ('bias', tensor([0.3093]))])\n",
            "Epoch: 200| Loss: 0.0025885067880153656| Test Loss: 0.008447891101241112\n",
            "OrderedDict([('weights', tensor([0.6990])), ('bias', tensor([0.3093]))])\n",
            "Epoch: 210| Loss: 0.0025885067880153656| Test Loss: 0.008447891101241112\n",
            "OrderedDict([('weights', tensor([0.6990])), ('bias', tensor([0.3093]))])\n",
            "Epoch: 220| Loss: 0.0025885067880153656| Test Loss: 0.008447891101241112\n",
            "OrderedDict([('weights', tensor([0.6990])), ('bias', tensor([0.3093]))])\n",
            "Epoch: 230| Loss: 0.0025885067880153656| Test Loss: 0.008447891101241112\n",
            "OrderedDict([('weights', tensor([0.6990])), ('bias', tensor([0.3093]))])\n",
            "Epoch: 240| Loss: 0.0025885067880153656| Test Loss: 0.008447891101241112\n",
            "OrderedDict([('weights', tensor([0.6990])), ('bias', tensor([0.3093]))])\n",
            "Epoch: 250| Loss: 0.0025885067880153656| Test Loss: 0.008447891101241112\n",
            "OrderedDict([('weights', tensor([0.6990])), ('bias', tensor([0.3093]))])\n",
            "Epoch: 260| Loss: 0.0025885067880153656| Test Loss: 0.008447891101241112\n",
            "OrderedDict([('weights', tensor([0.6990])), ('bias', tensor([0.3093]))])\n",
            "Epoch: 270| Loss: 0.0025885067880153656| Test Loss: 0.008447891101241112\n",
            "OrderedDict([('weights', tensor([0.6990])), ('bias', tensor([0.3093]))])\n",
            "Epoch: 280| Loss: 0.0025885067880153656| Test Loss: 0.008447891101241112\n",
            "OrderedDict([('weights', tensor([0.6990])), ('bias', tensor([0.3093]))])\n",
            "Epoch: 290| Loss: 0.0025885067880153656| Test Loss: 0.008447891101241112\n",
            "OrderedDict([('weights', tensor([0.6990])), ('bias', tensor([0.3093]))])\n"
          ]
        }
      ]
    },
    {
      "cell_type": "code",
      "source": [
        "plot_predictions(predictions = model_0(X_test).detach().numpy())"
      ],
      "metadata": {
        "colab": {
          "base_uri": "https://localhost:8080/",
          "height": 599
        },
        "id": "XlZMV1DxYy5P",
        "outputId": "db135a10-1aa3-40e2-a785-c14c63d449b2"
      },
      "execution_count": 52,
      "outputs": [
        {
          "output_type": "display_data",
          "data": {
            "text/plain": [
              "<Figure size 1000x700 with 1 Axes>"
            ],
            "image/png": "[encoded data removed]"
          },
          "metadata": {}
        }
      ]
    },
    {
      "cell_type": "code",
      "source": [
        "#Plotting Loss and Test Loss with respect to Epochs\n",
        "plt.plot(epoch_count, [loss.detach().numpy() for loss in test_loss_values], label=\"Test Loss\")\n",
        "plt.plot(epoch_count, [loss.detach().numpy() for loss in loss_values], label=\"Train Loss\")\n",
        "plt.title(\"Training and Test Loss Curves\")\n",
        "plt.ylabel(\"Loss\")\n",
        "plt.xlabel(\"Epochs\")\n",
        "plt.legend()"
      ],
      "metadata": {
        "colab": {
          "base_uri": "https://localhost:8080/",
          "height": 489
        },
        "id": "EZ5Dpjc7Y-vL",
        "outputId": "40f71b12-c143-4780-88cd-6d6f463981c5"
      },
      "execution_count": 53,
      "outputs": [
        {
          "output_type": "execute_result",
          "data": {
            "text/plain": [
              "<matplotlib.legend.Legend at 0x7c0b66c3d310>"
            ]
          },
          "metadata": {},
          "execution_count": 53
        },
        {
          "output_type": "display_data",
          "data": {
            "text/plain": [
              "<Figure size 640x480 with 1 Axes>"
            ],
            "image/png": "[encoded data removed]"
          },
          "metadata": {}
        }
      ]
    },
    {
      "cell_type": "code",
      "source": [
        "#Saving and Loading a model. Use of python pickle to save and load i.e. serializing and deserializing\n",
        "\n",
        "model_0.state_dict()"
      ],
      "metadata": {
        "colab": {
          "base_uri": "https://localhost:8080/"
        },
        "id": "bKH2nuPJRmtJ",
        "outputId": "7c6a3e5d-8ca5-4f2c-9267-d4f27ea3188a"
      },
      "execution_count": 54,
      "outputs": [
        {
          "output_type": "execute_result",
          "data": {
            "text/plain": [
              "OrderedDict([('weights', tensor([0.6951])), ('bias', tensor([0.2993]))])"
            ]
          },
          "metadata": {},
          "execution_count": 54
        }
      ]
    },
    {
      "cell_type": "code",
      "source": [
        "#Saving Our PyTorch Model\n",
        "from pathlib import Path\n",
        "import pathlib\n",
        "print(f\"Using pathlib from: {pathlib.__file__}\")\n",
        "print(f\"Pathlib version (if available): {getattr(pathlib, '__version__', 'N/A')}\")\n",
        "\n",
        "#Create a model directory\n",
        "MODEL_PATH = Path(\"models\")\n",
        "MODEL_PATH.mkdir(parents=True, exist_ok= True)\n",
        "\n",
        "#Create Model save path\n",
        "MODEL_NAME = \"01_pytorch_workflow_model.pth\"\n",
        "MODEL_SAVE_PATH = MODEL_PATH / MODEL_NAME\n",
        "\n",
        "MODEL_SAVE_PATH\n",
        "\n",
        "#Save the Model Save Dict\n",
        "print(f\"Saving model to: {MODEL_SAVE_PATH}\")\n",
        "torch.save(obj= model_0.state_dict(), f = MODEL_SAVE_PATH)\n",
        "\n"
      ],
      "metadata": {
        "id": "J8nOuiGYvn0P",
        "colab": {
          "base_uri": "https://localhost:8080/"
        },
        "outputId": "05bd8c81-28c4-41b6-d2df-be8ab40a9689"
      },
      "execution_count": 55,
      "outputs": [
        {
          "output_type": "stream",
          "name": "stdout",
          "text": [
            "Using pathlib from: /usr/lib/python3.11/pathlib.py\n",
            "Pathlib version (if available): N/A\n",
            "Saving model to: models/01_pytorch_workflow_model.pth\n"
          ]
        }
      ]
    },
    {
      "cell_type": "code",
      "source": [
        "#Loading a Pytorch Model:\n",
        "\n",
        "model_0.state_dict()\n",
        "\n",
        "loaded_model_0 = LinearRegressionModel()\n",
        "\n",
        "loaded_model_0.load_state_dict(torch.load(f=MODEL_SAVE_PATH))\n",
        "\n",
        "\n",
        "\n",
        "\n",
        "loaded_model_preds = loaded_model_0(X_test)\n",
        "\n",
        "loaded_model_preds\n",
        "\n",
        "\n",
        "\n",
        "\n",
        "\n",
        "\n"
      ],
      "metadata": {
        "colab": {
          "base_uri": "https://localhost:8080/"
        },
        "id": "yOAop2cIK-B2",
        "outputId": "2dc1dd67-99bc-4fc7-bd4b-10d8c6e31866"
      },
      "execution_count": 56,
      "outputs": [
        {
          "output_type": "execute_result",
          "data": {
            "text/plain": [
              "tensor([[0.8554],\n",
              "        [0.8693],\n",
              "        [0.8832],\n",
              "        [0.8971],\n",
              "        [0.9110],\n",
              "        [0.9249],\n",
              "        [0.9388],\n",
              "        [0.9527],\n",
              "        [0.9666],\n",
              "        [0.9805]], grad_fn=<AddBackward0>)"
            ]
          },
          "metadata": {},
          "execution_count": 56
        }
      ]
    },
    {
      "cell_type": "code",
      "source": [],
      "metadata": {
        "id": "Q6MdOIWuP-BM"
      },
      "execution_count": 56,
      "outputs": []
    },
    {
      "cell_type": "code",
      "source": [],
      "metadata": {
        "id": "K_C4MoX7P0d2"
      },
      "execution_count": 56,
      "outputs": []
    },
    {
      "cell_type": "code",
      "source": [
        "loaded_model_0.state_dict()"
      ],
      "metadata": {
        "colab": {
          "base_uri": "https://localhost:8080/"
        },
        "id": "ovyh1zU6MJAa",
        "outputId": "2f4dc077-e876-4ead-d622-a2701ad5cd99"
      },
      "execution_count": 57,
      "outputs": [
        {
          "output_type": "execute_result",
          "data": {
            "text/plain": [
              "OrderedDict([('weights', tensor([0.6951])), ('bias', tensor([0.2993]))])"
            ]
          },
          "metadata": {},
          "execution_count": 57
        }
      ]
    },
    {
      "cell_type": "code",
      "source": [
        "y_preds = loaded_model_preds"
      ],
      "metadata": {
        "id": "I-mQ1OC5Os4q"
      },
      "execution_count": 58,
      "outputs": []
    },
    {
      "cell_type": "markdown",
      "source": [
        "**Putting it All  Together**\n",
        "\n",
        "\n",
        "\n"
      ],
      "metadata": {
        "id": "PW7ymYuSRcx8"
      }
    },
    {
      "cell_type": "code",
      "source": [
        "print(torch.__version__)"
      ],
      "metadata": {
        "colab": {
          "base_uri": "https://localhost:8080/"
        },
        "id": "I8yzyVEIR7il",
        "outputId": "354e6f95-2390-4390-e637-b67b7c11d434"
      },
      "execution_count": 59,
      "outputs": [
        {
          "output_type": "stream",
          "name": "stdout",
          "text": [
            "2.6.0+cu124\n"
          ]
        }
      ]
    },
    {
      "cell_type": "code",
      "source": [
        "!nvidia-smi"
      ],
      "metadata": {
        "colab": {
          "base_uri": "https://localhost:8080/"
        },
        "id": "Ql4YlaFGR_oA",
        "outputId": "e2f2eea1-9529-49f8-d4ae-28cbe242a92d"
      },
      "execution_count": 60,
      "outputs": [
        {
          "output_type": "stream",
          "name": "stdout",
          "text": [
            "/bin/bash: line 1: nvidia-smi: command not found\n"
          ]
        }
      ]
    },
    {
      "cell_type": "markdown",
      "source": [
        "**Redoing All the Steps for Device Agnostic Code**"
      ],
      "metadata": {
        "id": "9tZXij5uS8fR"
      }
    },
    {
      "cell_type": "markdown",
      "source": [
        "**Data**"
      ],
      "metadata": {
        "id": "2TRbN_bti7p6"
      }
    },
    {
      "cell_type": "code",
      "source": [
        "#Use Linear Regression Formula:  y = weight  * X + bias\n",
        "\n",
        "weight = 0.7\n",
        "bias = 0.3\n",
        " #Create Range Values\n",
        "start = 0\n",
        "\n",
        "end = 1\n",
        "\n",
        "step = 0.02\n",
        "\n",
        "#Create X and Y (Labels and Features)\n",
        "\n",
        "X = torch.arange(start, end, step).unsqueeze(dim=1)  #Without Unsqueeze errors will pop up\n",
        "\n",
        "y = weight * X + bias\n",
        "\n",
        "X[:10] , y[:10]\n",
        "\n"
      ],
      "metadata": {
        "colab": {
          "base_uri": "https://localhost:8080/"
        },
        "id": "P892er_8jAD9",
        "outputId": "81d17253-8a0d-41dc-b186-3ea4d6836385"
      },
      "execution_count": 61,
      "outputs": [
        {
          "output_type": "execute_result",
          "data": {
            "text/plain": [
              "(tensor([[0.0000],\n",
              "         [0.0200],\n",
              "         [0.0400],\n",
              "         [0.0600],\n",
              "         [0.0800],\n",
              "         [0.1000],\n",
              "         [0.1200],\n",
              "         [0.1400],\n",
              "         [0.1600],\n",
              "         [0.1800]]),\n",
              " tensor([[0.3000],\n",
              "         [0.3140],\n",
              "         [0.3280],\n",
              "         [0.3420],\n",
              "         [0.3560],\n",
              "         [0.3700],\n",
              "         [0.3840],\n",
              "         [0.3980],\n",
              "         [0.4120],\n",
              "         [0.4260]]))"
            ]
          },
          "metadata": {},
          "execution_count": 61
        }
      ]
    },
    {
      "cell_type": "code",
      "source": [
        "#Split Data\n",
        "\n",
        "train_split = int(0.8 * len(X))\n",
        "X_train, y_train = X[:train_split], y[:train_split]\n",
        "\n",
        "X_test, y_test = X[train_split:], y[train_split:]\n",
        "\n",
        "len(X_train), len(y_train), len(X_test), len(y_test)\n"
      ],
      "metadata": {
        "colab": {
          "base_uri": "https://localhost:8080/"
        },
        "id": "BjvZQpNiTGa0",
        "outputId": "2f534953-6acc-42bf-fc39-83bdfc0a5e8f"
      },
      "execution_count": 62,
      "outputs": [
        {
          "output_type": "execute_result",
          "data": {
            "text/plain": [
              "(40, 40, 10, 10)"
            ]
          },
          "metadata": {},
          "execution_count": 62
        }
      ]
    },
    {
      "cell_type": "code",
      "source": [
        "def plot_predictions(train_data = X_train,\n",
        "                    train_label = y_train,\n",
        "                    test_data = X_test,\n",
        "                    test_label = y_test,\n",
        "                    predictions = None):\n",
        "    plt.figure(figsize=(10,7))\n",
        "    #Plotting the training Data\n",
        "    plt.scatter(train_data, train_label, c=\"b\", s=4, label=\"Training Data\")\n",
        "    #Plotting the Test Data in Green\n",
        "    plt.scatter(test_data, test_label, c=\"g\", s=4, label=\"Testing Data\")\n",
        "    #Are there any predictions?\n",
        "    if predictions is not None:\n",
        "        plt.scatter(test_data, predictions, c=\"r\", s=4 , label=\"Predictions\")\n",
        "\n",
        "    plt.legend(prop={\"size\": 14});"
      ],
      "metadata": {
        "id": "or5FLPEYPlDS"
      },
      "execution_count": 63,
      "outputs": []
    },
    {
      "cell_type": "code",
      "source": [
        "#Mapping Predictions\n",
        "\n",
        "plot_predictions(X_train, y_train, X_test, y_test)"
      ],
      "metadata": {
        "colab": {
          "base_uri": "https://localhost:8080/",
          "height": 599
        },
        "id": "1KV8sZYkOAIn",
        "outputId": "e867f2d9-2ee0-4cae-adf5-0cc38fd24965"
      },
      "execution_count": 64,
      "outputs": [
        {
          "output_type": "display_data",
          "data": {
            "text/plain": [
              "<Figure size 1000x700 with 1 Axes>"
            ],
            "image/png": "[encoded data removed]"
          },
          "metadata": {}
        }
      ]
    },
    {
      "cell_type": "code",
      "source": [
        "class LinearRegressionModelV2(nn.Module):\n",
        "  def __init__(self):\n",
        "    super().__init__()\n",
        "    self.Linear_layer = nn.Linear(in_features=1, out_features=1)\n",
        "  #Use nn.Linear() for creating model parameters / also called: Linear Transform, probing Layer, fully connected layer , Dense Layer,\n",
        "  def forward(self, x) -> torch.Tensor:\n",
        "    return self.Linear_layer(x)\n",
        "\n",
        "#Set Manual Seed\n",
        "torch.manual_seed(42)\n",
        "model_1 = LinearRegressionModelV2()\n",
        "\n",
        "model_1 , model_1.state_dict()"
      ],
      "metadata": {
        "colab": {
          "base_uri": "https://localhost:8080/"
        },
        "id": "Wy-ow-IiOZZS",
        "outputId": "731b4214-ad28-49ad-ff96-7519941c5350"
      },
      "execution_count": 65,
      "outputs": [
        {
          "output_type": "execute_result",
          "data": {
            "text/plain": [
              "(LinearRegressionModelV2(\n",
              "   (Linear_layer): Linear(in_features=1, out_features=1, bias=True)\n",
              " ),\n",
              " OrderedDict([('Linear_layer.weight', tensor([[0.7645]])),\n",
              "              ('Linear_layer.bias', tensor([0.8300]))]))"
            ]
          },
          "metadata": {},
          "execution_count": 65
        }
      ]
    },
    {
      "cell_type": "code",
      "source": [
        "#For Training a PyTorch Model We need:\n",
        "#1. Loss Function\n",
        "#2. Optimizer\n",
        "#3. Training Loop\n",
        "#4. Testing Loop\n",
        "\n",
        "loss_fn = nn.L1Loss()\n",
        "\n",
        "optimizer = torch.optim.Adam(params = model_1.parameters(), lr = 0.01)\n",
        "\n",
        "\n"
      ],
      "metadata": {
        "id": "8nG3UzFTS0q2"
      },
      "execution_count": 66,
      "outputs": []
    },
    {
      "cell_type": "code",
      "source": [
        "#Lets write a training Loop\n",
        "\n",
        "torch.manual_seed(42)\n",
        "\n",
        "epochs = 200\n",
        "\n",
        "for epoch in range(epochs):\n",
        "  model_1.train()\n",
        "  #1 Do a forward pass\n",
        "  y_pred = model_1(X_train)\n",
        "  #2 Calculate the Loss\n",
        "  loss = loss_fn(y_pred , y_train)\n",
        "  #3 Optimize the Zero Grad\n",
        "  optimizer.zero_grad()\n",
        "\n",
        "  #4 Perform BackPropagation\n",
        "  loss.backward()\n",
        "\n",
        "  #5 Gradient Descent\n",
        "  optimizer.step()\n",
        "\n",
        "  #Testing\n",
        "  model_1.eval()\n",
        "  with torch.inference_mode():\n",
        "    test_pred = model_1(X_test)\n",
        "    test_loss = loss_fn(test_pred, y_test)\n",
        "    if epoch % 10 == 0:\n",
        "      print(f\"Epoch: {epoch} | Loss: {loss} | Test Loss: {test_loss}\")\n",
        "      print(model_1.state_dict())\n",
        "\n"
      ],
      "metadata": {
        "colab": {
          "base_uri": "https://localhost:8080/"
        },
        "id": "gW-vzVuDVqwu",
        "outputId": "831fed37-fc36-4578-bc08-91102689cdea"
      },
      "execution_count": 68,
      "outputs": [
        {
          "output_type": "stream",
          "name": "stdout",
          "text": [
            "Epoch: 0 | Loss: 0.001849935157224536 | Test Loss: 0.001424765563569963\n",
            "OrderedDict([('Linear_layer.weight', tensor([[0.6966]])), ('Linear_layer.bias', tensor([0.3016]))])\n",
            "Epoch: 10 | Loss: 0.003051328007131815 | Test Loss: 0.0010924100643023849\n",
            "OrderedDict([('Linear_layer.weight', tensor([[0.7008]])), ('Linear_layer.bias', tensor([0.2982]))])\n",
            "Epoch: 20 | Loss: 0.0005767546826973557 | Test Loss: 0.0006606102106161416\n",
            "OrderedDict([('Linear_layer.weight', tensor([[0.7008]])), ('Linear_layer.bias', tensor([0.2986]))])\n",
            "Epoch: 30 | Loss: 0.0011658377479761839 | Test Loss: 0.002497774315997958\n",
            "OrderedDict([('Linear_layer.weight', tensor([[0.6973]])), ('Linear_layer.bias', tensor([0.2999]))])\n",
            "Epoch: 40 | Loss: 0.0017257288563996553 | Test Loss: 0.0021286786068230867\n",
            "OrderedDict([('Linear_layer.weight', tensor([[0.7007]])), ('Linear_layer.bias', tensor([0.3015]))])\n",
            "Epoch: 50 | Loss: 0.001688865595497191 | Test Loss: 0.0030755221378058195\n",
            "OrderedDict([('Linear_layer.weight', tensor([[0.7027]])), ('Linear_layer.bias', tensor([0.3007]))])\n",
            "Epoch: 60 | Loss: 0.0035352506674826145 | Test Loss: 0.0014696537982672453\n",
            "OrderedDict([('Linear_layer.weight', tensor([[0.6988]])), ('Linear_layer.bias', tensor([0.2996]))])\n",
            "Epoch: 70 | Loss: 0.0027086264453828335 | Test Loss: 0.004744035191833973\n",
            "OrderedDict([('Linear_layer.weight', tensor([[0.7027]])), ('Linear_layer.bias', tensor([0.3023]))])\n",
            "Epoch: 80 | Loss: 0.0027006238233298063 | Test Loss: 0.0010712087387219071\n",
            "OrderedDict([('Linear_layer.weight', tensor([[0.7010]])), ('Linear_layer.bias', tensor([0.2981]))])\n",
            "Epoch: 90 | Loss: 0.0015005223685875535 | Test Loss: 0.0010654747020453215\n",
            "OrderedDict([('Linear_layer.weight', tensor([[0.7004]])), ('Linear_layer.bias', tensor([0.2986]))])\n",
            "Epoch: 100 | Loss: 0.0023181848227977753 | Test Loss: 0.004573649261146784\n",
            "OrderedDict([('Linear_layer.weight', tensor([[0.7030]])), ('Linear_layer.bias', tensor([0.3019]))])\n",
            "Epoch: 110 | Loss: 0.0014165766770020127 | Test Loss: 3.557801392162219e-05\n",
            "OrderedDict([('Linear_layer.weight', tensor([[0.7005]])), ('Linear_layer.bias', tensor([0.2995]))])\n",
            "Epoch: 120 | Loss: 0.0021098963916301727 | Test Loss: 0.0004834354040212929\n",
            "OrderedDict([('Linear_layer.weight', tensor([[0.7003]])), ('Linear_layer.bias', tensor([0.2993]))])\n",
            "Epoch: 130 | Loss: 0.002491842955350876 | Test Loss: 0.004653841257095337\n",
            "OrderedDict([('Linear_layer.weight', tensor([[0.7029]])), ('Linear_layer.bias', tensor([0.3021]))])\n",
            "Epoch: 140 | Loss: 0.0017174303065985441 | Test Loss: 0.0007148802396841347\n",
            "OrderedDict([('Linear_layer.weight', tensor([[0.7000]])), ('Linear_layer.bias', tensor([0.2993]))])\n",
            "Epoch: 150 | Loss: 0.0012416846584528685 | Test Loss: 0.0017790257697924972\n",
            "OrderedDict([('Linear_layer.weight', tensor([[0.6993]])), ('Linear_layer.bias', tensor([0.2988]))])\n",
            "Epoch: 160 | Loss: 0.0014560602139681578 | Test Loss: 0.003018671181052923\n",
            "OrderedDict([('Linear_layer.weight', tensor([[0.7018]])), ('Linear_layer.bias', tensor([0.3015]))])\n",
            "Epoch: 170 | Loss: 0.0022719823755323887 | Test Loss: 0.0015274703036993742\n",
            "OrderedDict([('Linear_layer.weight', tensor([[0.6994]])), ('Linear_layer.bias', tensor([0.2990]))])\n",
            "Epoch: 180 | Loss: 0.0010060012573376298 | Test Loss: 0.002030187752097845\n",
            "OrderedDict([('Linear_layer.weight', tensor([[0.6991]])), ('Linear_layer.bias', tensor([0.2987]))])\n",
            "Epoch: 190 | Loss: 0.0013526000548154116 | Test Loss: 0.002859216881915927\n",
            "OrderedDict([('Linear_layer.weight', tensor([[0.7017]])), ('Linear_layer.bias', tensor([0.3014]))])\n"
          ]
        }
      ]
    },
    {
      "cell_type": "code",
      "source": [
        "#Evaluate the model\n",
        "\n",
        "model_1.state_dict()"
      ],
      "metadata": {
        "colab": {
          "base_uri": "https://localhost:8080/"
        },
        "id": "MUsJjfTmregH",
        "outputId": "caaff52f-1556-4e71-adaf-1a260f061dcd"
      },
      "execution_count": 70,
      "outputs": [
        {
          "output_type": "execute_result",
          "data": {
            "text/plain": [
              "OrderedDict([('Linear_layer.weight', tensor([[0.6987]])),\n",
              "             ('Linear_layer.bias', tensor([0.2983]))])"
            ]
          },
          "metadata": {},
          "execution_count": 70
        }
      ]
    },
    {
      "cell_type": "code",
      "source": [
        "#Check out the predictions\n",
        "plot_predictions(predictions= model_1(y_preds).detach().numpy())"
      ],
      "metadata": {
        "colab": {
          "base_uri": "https://localhost:8080/",
          "height": 599
        },
        "id": "4jKaibO0sD9v",
        "outputId": "151254ef-979b-46dd-d52c-414985f77058"
      },
      "execution_count": 73,
      "outputs": [
        {
          "output_type": "display_data",
          "data": {
            "text/plain": [
              "<Figure size 1000x700 with 1 Axes>"
            ],
            "image/png": "[encoded data removed]"
          },
          "metadata": {}
        }
      ]
    }
  ]
}